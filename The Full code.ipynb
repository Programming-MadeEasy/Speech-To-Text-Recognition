{
 "cells": [
  {
   "cell_type": "code",
   "execution_count": null,
   "id": "e9b96c33",
   "metadata": {},
   "outputs": [],
   "source": [
    "# Libraries/Modules used in this code:-\n",
    "\n",
    "#1 Sounddevice, wavio and scipy for the microphone\n",
    "#2 winsound module for playing audio file\n",
    "#3 AssemblyAI module for speech-to-text conversion"
   ]
  },
  {
   "cell_type": "code",
   "execution_count": 1,
   "id": "815ed516",
   "metadata": {},
   "outputs": [
    {
     "name": "stdout",
     "output_type": "stream",
     "text": [
      "Collecting sounddevice\n",
      "  Using cached sounddevice-0.4.6-py3-none-win_amd64.whl (199 kB)\n",
      "Requirement already satisfied: CFFI>=1.0 in c:\\users\\dell\\downloads\\anaconda\\lib\\site-packages (from sounddevice) (1.15.1)\n",
      "Requirement already satisfied: pycparser in c:\\users\\dell\\downloads\\anaconda\\lib\\site-packages (from CFFI>=1.0->sounddevice) (2.21)\n",
      "Installing collected packages: sounddevice\n",
      "Successfully installed sounddevice-0.4.6\n",
      "Note: you may need to restart the kernel to use updated packages.\n"
     ]
    }
   ],
   "source": [
    "# Installing sounddevice module\n",
    "pip install sounddevice"
   ]
  },
  {
   "cell_type": "code",
   "execution_count": 2,
   "id": "56da9e7f",
   "metadata": {},
   "outputs": [
    {
     "name": "stdout",
     "output_type": "stream",
     "text": [
      "Collecting wavio\n",
      "  Obtaining dependency information for wavio from https://files.pythonhosted.org/packages/bf/02/40d03e99a3d2d8d1e9392f44376f470120427ffb12483579dc7e0365f712/wavio-0.0.8-py3-none-any.whl.metadata\n",
      "  Using cached wavio-0.0.8-py3-none-any.whl.metadata (5.7 kB)\n",
      "Requirement already satisfied: numpy>=1.19.0 in c:\\users\\dell\\downloads\\anaconda\\lib\\site-packages (from wavio) (1.24.3)\n",
      "Using cached wavio-0.0.8-py3-none-any.whl (9.4 kB)\n",
      "Installing collected packages: wavio\n",
      "Successfully installed wavio-0.0.8\n",
      "Note: you may need to restart the kernel to use updated packages.\n"
     ]
    }
   ],
   "source": [
    "# Installing wavio module\n",
    "pip install wavio"
   ]
  },
  {
   "cell_type": "code",
   "execution_count": 1,
   "id": "7998ad3f",
   "metadata": {
    "scrolled": true
   },
   "outputs": [
    {
     "name": "stdout",
     "output_type": "stream",
     "text": [
      "Requirement already satisfied: assemblyai in c:\\users\\dell\\anaconda3\\lib\\site-packages (0.19.0)\n",
      "Requirement already satisfied: httpx>=0.19.0 in c:\\users\\dell\\anaconda3\\lib\\site-packages (from assemblyai) (0.25.1)\n",
      "Requirement already satisfied: pydantic!=1.10.7,>=1.7.0 in c:\\users\\dell\\anaconda3\\lib\\site-packages (from assemblyai) (1.10.8)\n",
      "Requirement already satisfied: typing-extensions>=3.7 in c:\\users\\dell\\anaconda3\\lib\\site-packages (from assemblyai) (4.7.1)\n",
      "Requirement already satisfied: websockets>=11.0 in c:\\users\\dell\\anaconda3\\lib\\site-packages (from assemblyai) (12.0)\n",
      "Requirement already satisfied: anyio in c:\\users\\dell\\anaconda3\\lib\\site-packages (from httpx>=0.19.0->assemblyai) (3.5.0)\n",
      "Requirement already satisfied: certifi in c:\\users\\dell\\anaconda3\\lib\\site-packages (from httpx>=0.19.0->assemblyai) (2023.7.22)\n",
      "Requirement already satisfied: httpcore in c:\\users\\dell\\anaconda3\\lib\\site-packages (from httpx>=0.19.0->assemblyai) (1.0.1)\n",
      "Requirement already satisfied: idna in c:\\users\\dell\\anaconda3\\lib\\site-packages (from httpx>=0.19.0->assemblyai) (3.4)\n",
      "Requirement already satisfied: sniffio in c:\\users\\dell\\anaconda3\\lib\\site-packages (from httpx>=0.19.0->assemblyai) (1.2.0)\n",
      "Requirement already satisfied: h11<0.15,>=0.13 in c:\\users\\dell\\anaconda3\\lib\\site-packages (from httpcore->httpx>=0.19.0->assemblyai) (0.14.0)\n",
      "Note: you may need to restart the kernel to use updated packages.\n"
     ]
    }
   ],
   "source": [
    "# Installing Assemblyai for speech to text conversion \n",
    "pip install assemblyai"
   ]
  },
  {
   "cell_type": "code",
   "execution_count": null,
   "id": "15708114",
   "metadata": {},
   "outputs": [],
   "source": [
    "# Recording the voice using the microphone"
   ]
  },
  {
   "cell_type": "code",
   "execution_count": 11,
   "id": "c8e82410",
   "metadata": {},
   "outputs": [],
   "source": [
    "# THE MICROPHONE\n",
    "\n",
    "#Importing sounddevice module\n",
    "import sounddevice as sd\n",
    "\n",
    "#Importing 'write' function from scipy \n",
    "from scipy.io.wavfile import write\n",
    "\n",
    "#Importing wavio module\n",
    "import wavio as wv\n",
    "\n",
    "#Defining frequency rate\n",
    "freq = 44100\n",
    "\n",
    "#Setting up the approximate duration of the audio clip\n",
    "duration = 40\n",
    "\n",
    "#Setting up the recording parameters\n",
    "recording = sd.rec(int(duration * freq),samplerate=freq, channels=2)\n",
    "\n",
    "#Voice is stored and transformed into a numpy array\n",
    "sd.wait()\n",
    "\n",
    "#Using wavio function to transform the data from numpy array into a audio file and saving it.\n",
    "wv.write(\"audio speech.wav\", recording, freq, sampwidth=2)"
   ]
  },
  {
   "cell_type": "code",
   "execution_count": null,
   "id": "d11df3ea",
   "metadata": {},
   "outputs": [],
   "source": [
    "# Playing the recorded audio file"
   ]
  },
  {
   "cell_type": "code",
   "execution_count": 12,
   "id": "53ad2b93",
   "metadata": {},
   "outputs": [],
   "source": [
    "# PLAYING AUDIO FILE\n",
    "\n",
    "# Importing 'winsound', an in-built module for playing audio files\n",
    "import winsound\n",
    "\n",
    "\n",
    "# Specify the audio file to filename\n",
    "filename = 'audio speech.wav'\n",
    "\n",
    "\n",
    "# Using the Playsound function of winsound to play the audio file\n",
    "winsound.PlaySound(filename, winsound.SND_FILENAME)"
   ]
  },
  {
   "cell_type": "code",
   "execution_count": null,
   "id": "4e30f22e",
   "metadata": {},
   "outputs": [],
   "source": [
    "# Converting speech to text"
   ]
  },
  {
   "cell_type": "code",
   "execution_count": 13,
   "id": "466a0e12",
   "metadata": {},
   "outputs": [
    {
     "name": "stdout",
     "output_type": "stream",
     "text": [
      "The text is written below:- \n",
      " What is Data science? Data science is about data gathering, analysis, and decision making. Data science is about finding patterns in data through analysis and make future predictions. Data science is used in many industries in the world today, for example, banking, healthcare, and manufacturing. Python is a programming language widely used by data scientists. Python has built mathematical libraries, functions making it easier to calculate mathematical problems and to perform data analysis. To know more about it, join IDC 409. Introduction to Data Science thank you.\n"
     ]
    }
   ],
   "source": [
    "# SPEECH-TO-TEXT Conversion\n",
    "\n",
    "# Import the installed assemblyai module\n",
    "import assemblyai as aai\n",
    "\n",
    "# Mention the API key to use the service module\n",
    "aai.settings.api_key = f\"11f608a57c154774befccc8c1fdb6597\"\n",
    "\n",
    "# Assigning the audio file with name Audio_file\n",
    "Audio_file=\"audio speech.wav\"\n",
    "\n",
    "# Setting up the configuration and enabling auto_highlights\n",
    "config=aai.TranscriptionConfig(auto_highlights=True)\n",
    "\n",
    "\n",
    "# Setting up the assemblyai Transcriber to transcriber varaiable\n",
    "transcriber = aai.Transcriber()\n",
    "\n",
    "# Transribe the text of audio file and store it in transcript variable\n",
    "transcript = transcriber.transcribe(Audio_file, config=config)\n",
    "\n",
    "# For accessing and writing the text obtained from audio file\n",
    "transcription_text = transcript.text\n",
    "print('The text is written below:- \\n',transcription_text)\n"
   ]
  }
 ],
 "metadata": {
  "kernelspec": {
   "display_name": "Python 3 (ipykernel)",
   "language": "python",
   "name": "python3"
  },
  "language_info": {
   "codemirror_mode": {
    "name": "ipython",
    "version": 3
   },
   "file_extension": ".py",
   "mimetype": "text/x-python",
   "name": "python",
   "nbconvert_exporter": "python",
   "pygments_lexer": "ipython3",
   "version": "3.11.5"
  }
 },
 "nbformat": 4,
 "nbformat_minor": 5
}
